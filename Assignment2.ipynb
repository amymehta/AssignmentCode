{
  "nbformat": 4,
  "nbformat_minor": 0,
  "metadata": {
    "colab": {
      "provenance": []
    },
    "kernelspec": {
      "name": "python3",
      "display_name": "Python 3"
    },
    "language_info": {
      "name": "python"
    }
  },
  "cells": [
    {
      "cell_type": "code",
      "execution_count": null,
      "metadata": {
        "id": "20dXfRAA5Wl0",
        "colab": {
          "base_uri": "https://localhost:8080/",
          "height": 428
        },
        "outputId": "e81b17b4-01a1-44da-c369-3c69e9181036"
      },
      "outputs": [
        {
          "output_type": "stream",
          "name": "stdout",
          "text": [
            "[('00:00', '00:30', \"variables x equals one x equals X plus two what is it going to print out x equals three strings X Y take a guess what X Plus Y is going to be there it isto guess what Z is going to be now we're taking a slice it looks like that functions we Definethis function here take F5 guess what it's going to be it's 7 because we added two to five ifstatements X is going to be equal to two if X Plus 1 equals three print X is this going to be true yes or no what do youthink yes this was true so it did print X if you put this equals 4 it doesn't print it because it's false\"), ('00:30', '01:00', 'Loops for I and range 1 to 100 this is a fancy way of saying if I is even so what is this going to print out take a guess print is out prints out the even numbers')]\n"
          ]
        },
        {
          "output_type": "error",
          "ename": "TypeError",
          "evalue": "ignored",
          "traceback": [
            "\u001b[0;31m---------------------------------------------------------------------------\u001b[0m",
            "\u001b[0;31mTypeError\u001b[0m                                 Traceback (most recent call last)",
            "\u001b[0;32m<ipython-input-8-beac3120dfa2>\u001b[0m in \u001b[0;36m<cell line: 77>\u001b[0;34m()\u001b[0m\n\u001b[1;32m     75\u001b[0m \u001b[0;34m\u001b[0m\u001b[0m\n\u001b[1;32m     76\u001b[0m \u001b[0mtranscripts\u001b[0m \u001b[0;34m=\u001b[0m \u001b[0;34m[\u001b[0m\u001b[0mload_transcript\u001b[0m\u001b[0;34m(\u001b[0m\u001b[0mfile\u001b[0m\u001b[0;34m)\u001b[0m \u001b[0;32mfor\u001b[0m \u001b[0mfile\u001b[0m \u001b[0;32min\u001b[0m \u001b[0mtranscript_files\u001b[0m\u001b[0;34m]\u001b[0m\u001b[0;34m\u001b[0m\u001b[0;34m\u001b[0m\u001b[0m\n\u001b[0;32m---> 77\u001b[0;31m \u001b[0mvector_store\u001b[0m \u001b[0;34m=\u001b[0m \u001b[0mcreate_vector_store\u001b[0m\u001b[0;34m(\u001b[0m\u001b[0mtranscripts\u001b[0m\u001b[0;34m,\u001b[0m \u001b[0minterval_seconds\u001b[0m\u001b[0;34m)\u001b[0m\u001b[0;34m\u001b[0m\u001b[0;34m\u001b[0m\u001b[0m\n\u001b[0m\u001b[1;32m     78\u001b[0m \u001b[0;34m\u001b[0m\u001b[0m\n\u001b[1;32m     79\u001b[0m \u001b[0;34m\u001b[0m\u001b[0m\n",
            "\u001b[0;32m<ipython-input-8-beac3120dfa2>\u001b[0m in \u001b[0;36mcreate_vector_store\u001b[0;34m(transcripts, interval_seconds)\u001b[0m\n\u001b[1;32m     61\u001b[0m \u001b[0;34m\u001b[0m\u001b[0m\n\u001b[1;32m     62\u001b[0m     \u001b[0;32mfor\u001b[0m \u001b[0mtranscript\u001b[0m \u001b[0;32min\u001b[0m \u001b[0mtranscripts\u001b[0m\u001b[0;34m:\u001b[0m\u001b[0;34m\u001b[0m\u001b[0;34m\u001b[0m\u001b[0m\n\u001b[0;32m---> 63\u001b[0;31m         \u001b[0mparsed_intervals\u001b[0m \u001b[0;34m=\u001b[0m \u001b[0mparse_transcript_file\u001b[0m\u001b[0;34m(\u001b[0m\u001b[0mtranscript\u001b[0m\u001b[0;34m,\u001b[0m \u001b[0minterval_seconds\u001b[0m\u001b[0;34m)\u001b[0m\u001b[0;34m\u001b[0m\u001b[0;34m\u001b[0m\u001b[0m\n\u001b[0m\u001b[1;32m     64\u001b[0m         \u001b[0;32mfor\u001b[0m \u001b[0mstart_time\u001b[0m\u001b[0;34m,\u001b[0m \u001b[0mend_time\u001b[0m\u001b[0;34m,\u001b[0m \u001b[0mtext\u001b[0m \u001b[0;32min\u001b[0m \u001b[0mparsed_intervals\u001b[0m\u001b[0;34m:\u001b[0m\u001b[0;34m\u001b[0m\u001b[0;34m\u001b[0m\u001b[0m\n\u001b[1;32m     65\u001b[0m             \u001b[0;31m# Concatenate start time and end time to create a unique key for each interval\u001b[0m\u001b[0;34m\u001b[0m\u001b[0;34m\u001b[0m\u001b[0m\n",
            "\u001b[0;32m<ipython-input-8-beac3120dfa2>\u001b[0m in \u001b[0;36mparse_transcript_file\u001b[0;34m(file_path, interval_seconds)\u001b[0m\n\u001b[1;32m     13\u001b[0m \u001b[0;32mdef\u001b[0m \u001b[0mparse_transcript_file\u001b[0m\u001b[0;34m(\u001b[0m\u001b[0mfile_path\u001b[0m\u001b[0;34m,\u001b[0m \u001b[0minterval_seconds\u001b[0m\u001b[0;34m)\u001b[0m\u001b[0;34m:\u001b[0m\u001b[0;34m\u001b[0m\u001b[0;34m\u001b[0m\u001b[0m\n\u001b[1;32m     14\u001b[0m   \u001b[0mresult\u001b[0m \u001b[0;34m=\u001b[0m \u001b[0;34m[\u001b[0m\u001b[0;34m]\u001b[0m\u001b[0;34m\u001b[0m\u001b[0;34m\u001b[0m\u001b[0m\n\u001b[0;32m---> 15\u001b[0;31m   \u001b[0;32mwith\u001b[0m \u001b[0mopen\u001b[0m\u001b[0;34m(\u001b[0m\u001b[0mfile_path\u001b[0m\u001b[0;34m)\u001b[0m \u001b[0;32mas\u001b[0m \u001b[0mfile\u001b[0m\u001b[0;34m:\u001b[0m\u001b[0;34m\u001b[0m\u001b[0;34m\u001b[0m\u001b[0m\n\u001b[0m\u001b[1;32m     16\u001b[0m     \u001b[0mlines\u001b[0m \u001b[0;34m=\u001b[0m \u001b[0mfile\u001b[0m\u001b[0;34m.\u001b[0m\u001b[0mreadlines\u001b[0m\u001b[0;34m(\u001b[0m\u001b[0;34m)\u001b[0m\u001b[0;34m\u001b[0m\u001b[0;34m\u001b[0m\u001b[0m\n\u001b[1;32m     17\u001b[0m   \u001b[0mstart_time\u001b[0m \u001b[0;34m=\u001b[0m \u001b[0;36m0\u001b[0m\u001b[0;34m\u001b[0m\u001b[0;34m\u001b[0m\u001b[0m\n",
            "\u001b[0;31mTypeError\u001b[0m: expected str, bytes or os.PathLike object, not list"
          ]
        }
      ],
      "source": [
        "# Download audio  transcripts from 10 youtube videos.\n",
        "#Use the method created above to generate a ‘vector store’ based on the transcripts of these videos.\n",
        "#Create a vector store and embeddings based on this data.\n",
        "#Document loading\n",
        "#Document splitting\n",
        "#And Vector store section\n",
        "\n",
        "def parse_transcript_file(file_path, interval_seconds):\n",
        "  result = []\n",
        "  with open(file_path, 'I') as file:\n",
        "    lines = file.readlines()\n",
        "  start_time = 0\n",
        "  end_time = interval_seconds\n",
        "  current_text = \"\"\n",
        "\n",
        "  for line in lines:\n",
        "        time_str, text = line.split(',', 1)\n",
        "        # The line below calculates the total time in seconds from a time string in the format \"mm:ss\"\n",
        "        # time_str is a string representing the time in the format \"mm:ss\"\n",
        "        # The strip() function removes any leading/trailing whitespace\n",
        "        # The split(':') function splits the string into a list of two elements, representing minutes and seconds\n",
        "        # The zip function pairs the elements of the list \"[60, 1]\" with the elements of the time string's list obtained in the previous step\n",
        "\n",
        "        time_in_seconds = sum(x * int(t) for x, t in zip([60, 1], time_str.strip().split(':')))\n",
        "        if time_in_seconds < end_time:\n",
        "            current_text += text.strip()\n",
        "        else:\n",
        "            result.append((f\"{start_time // 60:02}:{start_time % 60:02}\",\n",
        "                           f\"{end_time // 60:02}:{end_time % 60:02}\", current_text))\n",
        "            current_text = text.strip()\n",
        "            start_time = end_time\n",
        "            end_time += interval_seconds\n",
        "\n",
        "  if current_text:\n",
        "        result.append((f\"{start_time // 60:02}:{start_time % 60:02}\",\n",
        "                       f\"{end_time // 60:02}:{end_time % 60:02}\", current_text))\n",
        "        return result;\n",
        "\n",
        "file_path = \"video1.txt\"\n",
        "interval_seconds = 30\n",
        "result = parse_transcript_file(file_path, interval_seconds)\n",
        "print(result)\n",
        "\n",
        "\n",
        "\n",
        "import tensorflow as tf\n",
        "import tensorflow_hub as hub\n",
        "\n",
        "def load_transcript(file_path):\n",
        "    with open(file_path, 'r') as file:\n",
        "        return file.readlines()\n",
        "\n",
        "def create_vector_store(transcripts, interval_seconds):\n",
        "    vector_store = {}\n",
        "    embed = hub.load(\"https://tfhub.dev/google/universal-sentence-encoder/4\")\n",
        "\n",
        "    for transcript in transcripts:\n",
        "        parsed_intervals = parse_transcript_file(transcript, interval_seconds)\n",
        "        for start_time, end_time, text in parsed_intervals:\n",
        "            # Concatenate start time and end time to create a unique key for each interval\n",
        "            key = f\"{start_time}_{end_time}\"\n",
        "            embedding = embed([text])[0].numpy()\n",
        "            vector_store[key] = embedding\n",
        "\n",
        "    return vector_store\n",
        "\n",
        "#usage:\n",
        "transcript_files = [\"video1.txt\"]\n",
        "interval_seconds = 30\n",
        "\n",
        "transcripts = [load_transcript(file) for file in transcript_files]\n",
        "vector_store = create_vector_store(transcripts, interval_seconds)\n",
        "\n",
        "\n",
        "\n",
        "\n",
        "\n",
        "\n",
        "\n",
        "\n"
      ]
    },
    {
      "cell_type": "markdown",
      "source": [],
      "metadata": {
        "id": "mVDpp327PQc4"
      }
    },
    {
      "cell_type": "code",
      "source": [],
      "metadata": {
        "id": "BDu57WkcME45"
      },
      "execution_count": null,
      "outputs": []
    }
  ]
}