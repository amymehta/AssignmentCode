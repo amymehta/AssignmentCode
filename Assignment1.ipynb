{
  "nbformat": 4,
  "nbformat_minor": 0,
  "metadata": {
    "colab": {
      "provenance": []
    },
    "kernelspec": {
      "name": "python3",
      "display_name": "Python 3"
    },
    "language_info": {
      "name": "python"
    }
  },
  "cells": [
    {
      "cell_type": "code",
      "execution_count": 1,
      "metadata": {
        "id": "20dXfRAA5Wl0"
      },
      "outputs": [],
      "source": [
        "# You are given a file that contains a YouTube video's text transcript. (Copy pasted from YouTube GUI)\n",
        "\n",
        "#Each line in the file has the below format\n",
        "\n",
        "#Time T (in mm:ss format)  , text of the 7 second segment starting at time T\n",
        "\n",
        "#Each line denotes the text that was spoken in the YouTube video at time T from beginning of the video .\n",
        "\n",
        "#Parse this file as a list of pairs. (K,V) where k is the key as time and v is the value as text.\n",
        "#Return a list of tuples with 30 second intervals. Each tuple has three values.  T as start time , E as end time , Text as text of that 30 second window. (Unlikethe 7 seconds window in the original format) .\n",
        "#Write a method that takes the number of seconds as input and returns the same info as in #2 above.\n",
        "\n",
        "def parse_transcript_file(file_path, interval_seconds):\n",
        "  result = []\n",
        "  with open(file_path, 'I') as file:\n",
        "    lines = file.readlines()\n",
        "  start_time = 0\n",
        "  end_time = interval_seconds\n",
        "  current_text = \"\"\n",
        "\n",
        "  for line in lines:\n",
        "        time_str, text = line.split(',', 1)\n",
        "        # The line below calculates the total time in seconds from a time string in the format \"mm:ss\"\n",
        "        # time_str is a string representing the time in the format \"mm:ss\"\n",
        "        # The strip() function removes any leading/trailing whitespace\n",
        "        # The split(':') function splits the string into a list of two elements, representing minutes and seconds\n",
        "        # The zip function pairs the elements of the list \"[60, 1]\" with the elements of the time string's list obtained in the previous step\n",
        "\n",
        "        time_in_seconds = sum(x * int(t) for x, t in zip([60, 1], time_str.strip().split(':')))\n",
        "        if time_in_seconds < end_time:\n",
        "            current_text += text.strip()\n",
        "        else:\n",
        "            result.append((f\"{start_time // 60:02}:{start_time % 60:02}\",\n",
        "                           f\"{end_time // 60:02}:{end_time % 60:02}\", current_text))\n",
        "            current_text = text.strip()\n",
        "            start_time = end_time\n",
        "            end_time += interval_seconds\n",
        "\n",
        "  if current_text:\n",
        "        result.append((f\"{start_time // 60:02}:{start_time % 60:02}\",\n",
        "                       f\"{end_time // 60:02}:{end_time % 60:02}\", current_text))\n",
        "        return result;\n",
        "\n"
      ]
    },
    {
      "cell_type": "markdown",
      "source": [],
      "metadata": {
        "id": "mVDpp327PQc4"
      }
    },
    {
      "cell_type": "code",
      "source": [],
      "metadata": {
        "id": "BDu57WkcME45"
      },
      "execution_count": null,
      "outputs": []
    }
  ]
}