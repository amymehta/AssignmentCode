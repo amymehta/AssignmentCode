{
  "nbformat": 4,
  "nbformat_minor": 0,
  "metadata": {
    "colab": {
      "provenance": []
    },
    "kernelspec": {
      "name": "python3",
      "display_name": "Python 3"
    },
    "language_info": {
      "name": "python"
    }
  },
  "cells": [
    {
      "cell_type": "code",
      "execution_count": 2,
      "metadata": {
        "id": "20dXfRAA5Wl0"
      },
      "outputs": [],
      "source": [
        "def parse_transcript_file(file_path, interval_seconds):\n",
        "  result = []\n",
        "  with open(file_path, 'I') as file:\n",
        "    lines = file.readlines()\n",
        "  start_time = 0\n",
        "  end_time = interval_seconds\n",
        "  current_text = \"\"\n",
        "\n",
        "  for line in lines:\n",
        "        time_str, text = line.split(',', 1)\n",
        "        time_in_seconds = sum(x * int(t) for x, t in zip([60, 1], time_str.strip().split(':')))\n",
        "        if time_in_seconds < end_time:\n",
        "            current_text += text.strip()\n",
        "        else:\n",
        "            result.append((f\"{start_time // 60:02}:{start_time % 60:02}\",\n",
        "                           f\"{end_time // 60:02}:{end_time % 60:02}\", current_text))\n",
        "            current_text = text.strip()\n",
        "            start_time = end_time\n",
        "            end_time += interval_seconds\n",
        "\n",
        "  if current_text:\n",
        "        result.append((f\"{start_time // 60:02}:{start_time % 60:02}\",\n",
        "                       f\"{end_time // 60:02}:{end_time % 60:02}\", current_text))\n",
        "        return result;\n",
        "\n"
      ]
    },
    {
      "cell_type": "code",
      "source": [],
      "metadata": {
        "id": "BDu57WkcME45"
      },
      "execution_count": null,
      "outputs": []
    }
  ]
}